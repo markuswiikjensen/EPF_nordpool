{
 "cells": [
  {
   "cell_type": "code",
   "execution_count": 1,
   "id": "f732663a",
   "metadata": {
    "scrolled": true
   },
   "outputs": [],
   "source": [
    "import pandas as pd\n",
    "\n",
    "def clean_operating_data(df, kode):\n",
    "    df=df.iloc[:,0].str.split(';', expand=True)\n",
    "    df.columns=df.iloc[3]\n",
    "    df=df.iloc[47:-1]\n",
    "    keep_list = ['NO1', 'NO2', 'NO3', 'NO4', 'NO5', 'NO6']\n",
    "\n",
    "    df = df[df['Alias'].str.contains('|'.join(keep_list))]\n",
    "\n",
    "    date_col = 'Dato'\n",
    "    hour_cols = ['Time1',\n",
    "           'Time2', 'Time3', 'Time4', 'Time5', 'Time6', 'Time7',\n",
    "           'Time8', 'Time9', 'Time10', 'Time11', 'Time12', 'Time13', 'Time14',\n",
    "           'Time15', 'Time16', 'Time17', 'Time18', 'Time19', 'Time20', 'Time21',\n",
    "           'Time22', 'Time23', 'Time24']\n",
    "    df.drop('Time3B', axis=1, inplace=True)\n",
    "    df['Time3']=df['Time3A']\n",
    "\n",
    "    # unpivot the hourly observation columns into two new columns: hour and value\n",
    "    df_melted = pd.melt(df, id_vars=[date_col, 'Kode', 'Alias'], value_vars=hour_cols, var_name='hour', value_name='value')\n",
    "\n",
    "    # replace hour values of 24 with 00\n",
    "    df_melted['hour'] = df_melted['hour'].str.strip('Time').str.replace('^24', '00', regex=True)\n",
    "\n",
    "    # combine the date and hour columns into a single datetime column\n",
    "    df_melted['datetime'] = pd.to_datetime(df_melted[date_col] + ' ' + df_melted['hour'].str.strip('Time') + ':00:00', format='%d.%m.%Y %H:%M:%S')\n",
    "\n",
    "    # drop the original date and hour columns, as well as any other unnecessary columns\n",
    "    df_melted.drop(columns=[date_col, 'hour'], inplace=True)\n",
    "\n",
    "    # sort the data by the datetime column\n",
    "    df_melted.sort_values('datetime', inplace=True)\n",
    "\n",
    "    pr = df_melted['Kode']==kode\n",
    "    df_pr = df_melted[pr]\n",
    "\n",
    "    # create a pivot table with Alias as columns and datetime as index, including all columns\n",
    "    pivot_table = df_pr.pivot_table('value', 'datetime','Alias')\n",
    "    \n",
    "    return pivot_table\n",
    "\n"
   ]
  },
  {
   "cell_type": "code",
   "execution_count": 2,
   "id": "551fee63",
   "metadata": {},
   "outputs": [],
   "source": [
    "def combine_clean_data(list_of_tables, kode):\n",
    "    \n",
    "    # Initialize an empty list to store the cleaned tables\n",
    "    list_of_clean_tables = []\n",
    "    \n",
    "    for i in list_of_tables:\n",
    "        new_i = clean_operating_data(i, kode)\n",
    "        # Append the cleaned table to the list of cleaned tables\n",
    "        list_of_clean_tables.append(new_i)\n",
    "        \n",
    "    # Append the tables together\n",
    "    combined_table = pd.concat(list_of_clean_tables, axis=0, ignore_index=False)\n",
    "    \n",
    "    return combined_table\n"
   ]
  },
  {
   "cell_type": "code",
   "execution_count": 3,
   "id": "63964c75",
   "metadata": {},
   "outputs": [],
   "source": [
    "\n",
    "import os\n",
    "\n",
    "folder_path = '/Users/markuswiikjensen/Desktop/Master-Data/Operating data/2020'  # replace with the path to your folder\n",
    "dfs = []  # initialize an empty list to store the DataFrames\n",
    "\n",
    "for filename in os.listdir(folder_path):\n",
    "    file_path = os.path.join(folder_path, filename)\n",
    "    df = pd.read_csv(file_path, delimiter='\\t', encoding='ISO-8859-1' )  # read the CSV file as a DataFrame\n",
    "    dfs.append(df)  # append the DataFrame to the list\n",
    "\n",
    "# print the list of DataFrames\n",
    "\n"
   ]
  },
  {
   "cell_type": "code",
   "execution_count": 4,
   "id": "95b56cc3",
   "metadata": {},
   "outputs": [
    {
     "name": "stderr",
     "output_type": "stream",
     "text": [
      "/var/folders/qt/z8wfyvqx1l55qqc_y_5n83fc0000gn/T/ipykernel_14594/516874763.py:39: FutureWarning: Dropping invalid columns in DataFrameGroupBy.mean is deprecated. In a future version, a TypeError will be raised. Before calling .mean, select only columns which should be valid for the function.\n",
      "  pivot_table = df_pr.pivot_table('value', 'datetime','Alias')\n"
     ]
    }
   ],
   "source": [
    "pr1=combine_clean_data(dfs, 'PE')"
   ]
  },
  {
   "cell_type": "code",
   "execution_count": 5,
   "id": "5b92a24b",
   "metadata": {},
   "outputs": [],
   "source": [
    "\n",
    "folder_path = '/Users/markuswiikjensen/Desktop/Master-Data/Operating data/2021'  # replace with the path to your folder\n",
    "dfs = []  # initialize an empty list to store the DataFrames\n",
    "\n",
    "for filename in os.listdir(folder_path):\n",
    "    file_path = os.path.join(folder_path, filename)\n",
    "    df = pd.read_csv(file_path, delimiter='\\t', encoding='ISO-8859-1' )  # read the CSV file as a DataFrame\n",
    "    dfs.append(df)  # append the DataFrame to the list\n",
    "\n",
    "# print the list of DataFrames"
   ]
  },
  {
   "cell_type": "code",
   "execution_count": 6,
   "id": "dd80d583",
   "metadata": {},
   "outputs": [
    {
     "name": "stderr",
     "output_type": "stream",
     "text": [
      "/var/folders/qt/z8wfyvqx1l55qqc_y_5n83fc0000gn/T/ipykernel_14594/516874763.py:39: FutureWarning: Dropping invalid columns in DataFrameGroupBy.mean is deprecated. In a future version, a TypeError will be raised. Before calling .mean, select only columns which should be valid for the function.\n",
      "  pivot_table = df_pr.pivot_table('value', 'datetime','Alias')\n"
     ]
    }
   ],
   "source": [
    "pr2=combine_clean_data(dfs, 'PE')"
   ]
  },
  {
   "cell_type": "code",
   "execution_count": 7,
   "id": "9328c7e9",
   "metadata": {},
   "outputs": [],
   "source": [
    "folder_path = '/Users/markuswiikjensen/Desktop/Master-Data/Operating data/2022'  # replace with the path to your folder\n",
    "dfs = []  # initialize an empty list to store the DataFrames\n",
    "\n",
    "for filename in os.listdir(folder_path):\n",
    "    file_path = os.path.join(folder_path, filename)\n",
    "    df = pd.read_csv(file_path, delimiter='\\t', encoding='ISO-8859-1' )  # read the CSV file as a DataFrame\n",
    "    dfs.append(df)  # append the DataFrame to the list\n",
    "\n",
    "# print the list of DataFrames"
   ]
  },
  {
   "cell_type": "code",
   "execution_count": 8,
   "id": "9b4f43a5",
   "metadata": {},
   "outputs": [
    {
     "name": "stderr",
     "output_type": "stream",
     "text": [
      "/var/folders/qt/z8wfyvqx1l55qqc_y_5n83fc0000gn/T/ipykernel_14594/516874763.py:39: FutureWarning: Dropping invalid columns in DataFrameGroupBy.mean is deprecated. In a future version, a TypeError will be raised. Before calling .mean, select only columns which should be valid for the function.\n",
      "  pivot_table = df_pr.pivot_table('value', 'datetime','Alias')\n"
     ]
    }
   ],
   "source": [
    "pr3=combine_clean_data(dfs, 'PE')"
   ]
  },
  {
   "cell_type": "code",
   "execution_count": 9,
   "id": "7bd65cb2",
   "metadata": {},
   "outputs": [],
   "source": [
    "folder_path = '/Users/markuswiikjensen/Desktop/Master-Data/Operating data/2023'  # replace with the path to your folder\n",
    "dfs = []  # initialize an empty list to store the DataFrames\n",
    "\n",
    "for filename in os.listdir(folder_path):\n",
    "    file_path = os.path.join(folder_path, filename)\n",
    "    df = pd.read_csv(file_path, delimiter='\\t', encoding='ISO-8859-1' )  # read the CSV file as a DataFrame\n",
    "    dfs.append(df)  # append the DataFrame to the list\n",
    "\n",
    "# print the list of DataFrames"
   ]
  },
  {
   "cell_type": "code",
   "execution_count": 10,
   "id": "fb4aca6f",
   "metadata": {},
   "outputs": [
    {
     "name": "stderr",
     "output_type": "stream",
     "text": [
      "/var/folders/qt/z8wfyvqx1l55qqc_y_5n83fc0000gn/T/ipykernel_14594/516874763.py:39: FutureWarning: Dropping invalid columns in DataFrameGroupBy.mean is deprecated. In a future version, a TypeError will be raised. Before calling .mean, select only columns which should be valid for the function.\n",
      "  pivot_table = df_pr.pivot_table('value', 'datetime','Alias')\n"
     ]
    }
   ],
   "source": [
    "pr4=combine_clean_data(dfs, 'PE')"
   ]
  },
  {
   "cell_type": "code",
   "execution_count": 11,
   "id": "aeea9278",
   "metadata": {},
   "outputs": [],
   "source": [
    "df=pd.concat([pr1,pr2,pr3,pr4], axis=0)\n",
    "df.sort_index(ascending=True, inplace=True)"
   ]
  },
  {
   "cell_type": "code",
   "execution_count": 12,
   "id": "7fbcd0ab",
   "metadata": {},
   "outputs": [],
   "source": [
    "df.to_csv('da_production_prognosis.csv')"
   ]
  },
  {
   "cell_type": "code",
   "execution_count": 13,
   "id": "71bbc163",
   "metadata": {},
   "outputs": [
    {
     "data": {
      "text/html": [
       "<div>\n",
       "<style scoped>\n",
       "    .dataframe tbody tr th:only-of-type {\n",
       "        vertical-align: middle;\n",
       "    }\n",
       "\n",
       "    .dataframe tbody tr th {\n",
       "        vertical-align: top;\n",
       "    }\n",
       "\n",
       "    .dataframe thead th {\n",
       "        text-align: right;\n",
       "    }\n",
       "</style>\n",
       "<table border=\"1\" class=\"dataframe\">\n",
       "  <thead>\n",
       "    <tr style=\"text-align: right;\">\n",
       "      <th>Alias</th>\n",
       "      <th>NO1</th>\n",
       "      <th>NO2</th>\n",
       "      <th>NO3</th>\n",
       "      <th>NO4</th>\n",
       "      <th>NO5</th>\n",
       "    </tr>\n",
       "    <tr>\n",
       "      <th>datetime</th>\n",
       "      <th></th>\n",
       "      <th></th>\n",
       "      <th></th>\n",
       "      <th></th>\n",
       "      <th></th>\n",
       "    </tr>\n",
       "  </thead>\n",
       "  <tbody>\n",
       "    <tr>\n",
       "      <th>2019-12-30 00:00:00</th>\n",
       "      <td>1951.0</td>\n",
       "      <td>4191.0</td>\n",
       "      <td>2106.0</td>\n",
       "      <td>1695.0</td>\n",
       "      <td>2621.0</td>\n",
       "    </tr>\n",
       "    <tr>\n",
       "      <th>2019-12-30 01:00:00</th>\n",
       "      <td>1760.0</td>\n",
       "      <td>3593.0</td>\n",
       "      <td>1919.0</td>\n",
       "      <td>1402.0</td>\n",
       "      <td>2572.0</td>\n",
       "    </tr>\n",
       "    <tr>\n",
       "      <th>2019-12-30 02:00:00</th>\n",
       "      <td>1745.0</td>\n",
       "      <td>3439.0</td>\n",
       "      <td>1914.0</td>\n",
       "      <td>1467.0</td>\n",
       "      <td>2526.0</td>\n",
       "    </tr>\n",
       "    <tr>\n",
       "      <th>2019-12-30 03:00:00</th>\n",
       "      <td>1743.0</td>\n",
       "      <td>3608.0</td>\n",
       "      <td>1904.0</td>\n",
       "      <td>1432.0</td>\n",
       "      <td>2483.0</td>\n",
       "    </tr>\n",
       "    <tr>\n",
       "      <th>2019-12-30 04:00:00</th>\n",
       "      <td>1745.0</td>\n",
       "      <td>3603.0</td>\n",
       "      <td>1913.0</td>\n",
       "      <td>1424.0</td>\n",
       "      <td>2485.0</td>\n",
       "    </tr>\n",
       "    <tr>\n",
       "      <th>...</th>\n",
       "      <td>...</td>\n",
       "      <td>...</td>\n",
       "      <td>...</td>\n",
       "      <td>...</td>\n",
       "      <td>...</td>\n",
       "    </tr>\n",
       "    <tr>\n",
       "      <th>2023-04-08 19:00:00</th>\n",
       "      <td>117.0</td>\n",
       "      <td>116.0</td>\n",
       "      <td>50.0</td>\n",
       "      <td>408.0</td>\n",
       "      <td>13.0</td>\n",
       "    </tr>\n",
       "    <tr>\n",
       "      <th>2023-04-08 20:00:00</th>\n",
       "      <td>122.0</td>\n",
       "      <td>118.0</td>\n",
       "      <td>57.0</td>\n",
       "      <td>401.0</td>\n",
       "      <td>13.0</td>\n",
       "    </tr>\n",
       "    <tr>\n",
       "      <th>2023-04-08 21:00:00</th>\n",
       "      <td>128.0</td>\n",
       "      <td>116.0</td>\n",
       "      <td>74.0</td>\n",
       "      <td>401.0</td>\n",
       "      <td>13.0</td>\n",
       "    </tr>\n",
       "    <tr>\n",
       "      <th>2023-04-08 22:00:00</th>\n",
       "      <td>133.0</td>\n",
       "      <td>114.0</td>\n",
       "      <td>97.0</td>\n",
       "      <td>405.0</td>\n",
       "      <td>13.0</td>\n",
       "    </tr>\n",
       "    <tr>\n",
       "      <th>2023-04-08 23:00:00</th>\n",
       "      <td>139.0</td>\n",
       "      <td>116.0</td>\n",
       "      <td>119.0</td>\n",
       "      <td>412.0</td>\n",
       "      <td>13.0</td>\n",
       "    </tr>\n",
       "  </tbody>\n",
       "</table>\n",
       "<p>28392 rows × 5 columns</p>\n",
       "</div>"
      ],
      "text/plain": [
       "Alias                   NO1     NO2     NO3     NO4     NO5\n",
       "datetime                                                   \n",
       "2019-12-30 00:00:00  1951.0  4191.0  2106.0  1695.0  2621.0\n",
       "2019-12-30 01:00:00  1760.0  3593.0  1919.0  1402.0  2572.0\n",
       "2019-12-30 02:00:00  1745.0  3439.0  1914.0  1467.0  2526.0\n",
       "2019-12-30 03:00:00  1743.0  3608.0  1904.0  1432.0  2483.0\n",
       "2019-12-30 04:00:00  1745.0  3603.0  1913.0  1424.0  2485.0\n",
       "...                     ...     ...     ...     ...     ...\n",
       "2023-04-08 19:00:00   117.0   116.0    50.0   408.0    13.0\n",
       "2023-04-08 20:00:00   122.0   118.0    57.0   401.0    13.0\n",
       "2023-04-08 21:00:00   128.0   116.0    74.0   401.0    13.0\n",
       "2023-04-08 22:00:00   133.0   114.0    97.0   405.0    13.0\n",
       "2023-04-08 23:00:00   139.0   116.0   119.0   412.0    13.0\n",
       "\n",
       "[28392 rows x 5 columns]"
      ]
     },
     "execution_count": 13,
     "metadata": {},
     "output_type": "execute_result"
    }
   ],
   "source": [
    "df"
   ]
  },
  {
   "cell_type": "code",
   "execution_count": null,
   "id": "07c1b6b5",
   "metadata": {},
   "outputs": [],
   "source": []
  }
 ],
 "metadata": {
  "kernelspec": {
   "display_name": "Python 3 (ipykernel)",
   "language": "python",
   "name": "python3"
  },
  "language_info": {
   "codemirror_mode": {
    "name": "ipython",
    "version": 3
   },
   "file_extension": ".py",
   "mimetype": "text/x-python",
   "name": "python",
   "nbconvert_exporter": "python",
   "pygments_lexer": "ipython3",
   "version": "3.9.15"
  }
 },
 "nbformat": 4,
 "nbformat_minor": 5
}
