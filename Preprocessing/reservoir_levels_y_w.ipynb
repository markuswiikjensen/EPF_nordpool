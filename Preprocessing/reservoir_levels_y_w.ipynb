{
 "cells": [
  {
   "cell_type": "code",
   "execution_count": 1,
   "id": "02385cfa",
   "metadata": {},
   "outputs": [],
   "source": [
    "import pandas as pd \n",
    "import numpy as np\n",
    "\n",
    "f= '/Users/markuswiikjensen/Desktop/Master-Data/Operating data/Hydro Reservoir Content/FYLLGRAD.XLS'\n",
    "\n",
    "df1= pd.read_excel(f, sheet_name='2020')\n",
    "df2= pd.read_excel(f, sheet_name='2021')\n",
    "df3= pd.read_excel(f, sheet_name='2022')\n",
    "df4=pd.read_excel(f, sheet_name='2023')"
   ]
  },
  {
   "cell_type": "code",
   "execution_count": 2,
   "id": "057f8243",
   "metadata": {
    "scrolled": false
   },
   "outputs": [],
   "source": [
    "df1=df1.loc[5:57, :'Unnamed: 2']\n",
    "df1.rename(columns= {'Magasinfylling totalt i Norge og Sverige': 'Week', 'Unnamed: 1':'Capacity_GWh','Unnamed: 2':'Levels_GWh' }, inplace=True)"
   ]
  },
  {
   "cell_type": "code",
   "execution_count": 3,
   "id": "53643097",
   "metadata": {},
   "outputs": [],
   "source": [
    "df2=df2.loc[5:57, :'Unnamed: 2']\n",
    "df2.rename(columns= {'Magasinfylling totalt i Norge og Sverige': 'Week', 'Unnamed: 1':'Capacity_GWh','Unnamed: 2':'Levels_GWh' }, inplace=True)"
   ]
  },
  {
   "cell_type": "code",
   "execution_count": 4,
   "id": "11be8f79",
   "metadata": {},
   "outputs": [],
   "source": [
    "df3=df3.loc[5:57, :'Unnamed: 2']\n",
    "df3.rename(columns= {'Magasinfylling totalt i Norge og Sverige': 'Week', 'Unnamed: 1':'Capacity_GWh','Unnamed: 2':'Levels_GWh' }, inplace=True)"
   ]
  },
  {
   "cell_type": "code",
   "execution_count": 5,
   "id": "49a0568b",
   "metadata": {},
   "outputs": [],
   "source": [
    "df4=df4.loc[5:57, :'Unnamed: 2']\n",
    "df4.rename(columns= {'Magasinfylling totalt i Norge og Sverige': 'Week', 'Unnamed: 1':'Capacity_GWh','Unnamed: 2':'Levels_GWh' }, inplace=True)"
   ]
  },
  {
   "cell_type": "code",
   "execution_count": 6,
   "id": "7e1bab71",
   "metadata": {},
   "outputs": [],
   "source": [
    "# Define a function to append the year to each week number\n",
    "def format_week(week_num, year):\n",
    "    return '{}/{}'.format(year, week_num)\n",
    "\n",
    "# Add a new column with the formatted year/week strings\n",
    "df1['Year/Week'] = df1['Week'].apply(format_week, year=2020)\n",
    "df2['Year/Week'] = df2['Week'].apply(format_week, year=2021)\n",
    "df3['Year/Week'] = df3['Week'].apply(format_week, year=2022)\n",
    "df4['Year/Week'] = df4['Week'].apply(format_week, year=2023)\n",
    "df= pd.concat([df1, df2, df3, df4], axis=0 )"
   ]
  },
  {
   "cell_type": "code",
   "execution_count": 10,
   "id": "dc41b0f0",
   "metadata": {},
   "outputs": [],
   "source": [
    "df.to_csv('reservoir_levels.csv')"
   ]
  },
  {
   "cell_type": "code",
   "execution_count": null,
   "id": "8c72760d",
   "metadata": {},
   "outputs": [],
   "source": []
  }
 ],
 "metadata": {
  "kernelspec": {
   "display_name": "Python 3 (ipykernel)",
   "language": "python",
   "name": "python3"
  },
  "language_info": {
   "codemirror_mode": {
    "name": "ipython",
    "version": 3
   },
   "file_extension": ".py",
   "mimetype": "text/x-python",
   "name": "python",
   "nbconvert_exporter": "python",
   "pygments_lexer": "ipython3",
   "version": "3.9.15"
  }
 },
 "nbformat": 4,
 "nbformat_minor": 5
}
