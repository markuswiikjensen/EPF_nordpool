{
 "cells": [
  {
   "cell_type": "code",
   "execution_count": 1,
   "id": "7ac87643",
   "metadata": {
    "scrolled": true
   },
   "outputs": [],
   "source": [
    "import pandas as pd\n",
    "\n",
    "def clean_operating_data(df, kode):\n",
    "    df=df.iloc[:,0].str.split(';', expand=True)\n",
    "    df.columns=df.iloc[3]\n",
    "    df=df.iloc[47:-1]\n",
    "    keep_list = ['NO1', 'NO2', 'NO3', 'NO4', 'NO5', 'NO6']\n",
    "\n",
    "    df = df[df['Alias'].str.contains('|'.join(keep_list))]\n",
    "\n",
    "    date_col = 'Dato'\n",
    "    hour_cols = ['Time1',\n",
    "           'Time2', 'Time3', 'Time4', 'Time5', 'Time6', 'Time7',\n",
    "           'Time8', 'Time9', 'Time10', 'Time11', 'Time12', 'Time13', 'Time14',\n",
    "           'Time15', 'Time16', 'Time17', 'Time18', 'Time19', 'Time20', 'Time21',\n",
    "           'Time22', 'Time23', 'Time24']\n",
    "    df.drop('Time3B', axis=1, inplace=True)\n",
    "    df['Time3']=df['Time3A']\n",
    "\n",
    "    # unpivot the hourly observation columns into two new columns: hour and value\n",
    "    df_melted = pd.melt(df, id_vars=[date_col, 'Kode', 'Alias'], value_vars=hour_cols, var_name='hour', value_name='value')\n",
    "\n",
    "    # replace hour values of 24 with 00\n",
    "    df_melted['hour'] = df_melted['hour'].str.strip('Time').str.replace('^24', '00', regex=True)\n",
    "\n",
    "    # combine the date and hour columns into a single datetime column\n",
    "    df_melted['datetime'] = pd.to_datetime(df_melted[date_col] + ' ' + df_melted['hour'].str.strip('Time') + ':00:00', format='%d.%m.%Y %H:%M:%S')\n",
    "\n",
    "    # drop the original date and hour columns, as well as any other unnecessary columns\n",
    "    df_melted.drop(columns=[date_col, 'hour'], inplace=True)\n",
    "\n",
    "    # sort the data by the datetime column\n",
    "    df_melted.sort_values('datetime', inplace=True)\n",
    "\n",
    "    pr = df_melted['Kode']==kode\n",
    "    df_pr = df_melted[pr]\n",
    "\n",
    "    # create a pivot table with Alias as columns and datetime as index, including all columns\n",
    "    pivot_table = df_pr.pivot_table('value', 'datetime','Alias')\n",
    "    \n",
    "    return pivot_table\n",
    "\n"
   ]
  },
  {
   "cell_type": "code",
   "execution_count": 2,
   "id": "17526f93",
   "metadata": {},
   "outputs": [],
   "source": [
    "def combine_clean_data(list_of_tables, kode):\n",
    "    \n",
    "    # Initialize an empty list to store the cleaned tables\n",
    "    list_of_clean_tables = []\n",
    "    \n",
    "    for i in list_of_tables:\n",
    "        new_i = clean_operating_data(i, kode)\n",
    "        # Append the cleaned table to the list of cleaned tables\n",
    "        list_of_clean_tables.append(new_i)\n",
    "        \n",
    "    # Append the tables together\n",
    "    combined_table = pd.concat(list_of_clean_tables, axis=0, ignore_index=False)\n",
    "    \n",
    "    return combined_table\n"
   ]
  },
  {
   "cell_type": "code",
   "execution_count": 3,
   "id": "e2856d3a",
   "metadata": {},
   "outputs": [],
   "source": [
    "\n",
    "import os\n",
    "\n",
    "folder_path = '/Users/markuswiikjensen/Desktop/Master-Data/Operating data/2020'  # replace with the path to your folder\n",
    "dfs = []  # initialize an empty list to store the DataFrames\n",
    "\n",
    "for filename in os.listdir(folder_path):\n",
    "    file_path = os.path.join(folder_path, filename)\n",
    "    df = pd.read_csv(file_path, delimiter='\\t', encoding='ISO-8859-1' )  # read the CSV file as a DataFrame\n",
    "    dfs.append(df)  # append the DataFrame to the list\n",
    "\n",
    "# print the list of DataFrames\n",
    "\n"
   ]
  },
  {
   "cell_type": "code",
   "execution_count": 4,
   "id": "24660591",
   "metadata": {},
   "outputs": [
    {
     "name": "stderr",
     "output_type": "stream",
     "text": [
      "/var/folders/qt/z8wfyvqx1l55qqc_y_5n83fc0000gn/T/ipykernel_14567/516874763.py:39: FutureWarning: Dropping invalid columns in DataFrameGroupBy.mean is deprecated. In a future version, a TypeError will be raised. Before calling .mean, select only columns which should be valid for the function.\n",
      "  pivot_table = df_pr.pivot_table('value', 'datetime','Alias')\n"
     ]
    }
   ],
   "source": [
    "pr1=combine_clean_data(dfs, 'F')"
   ]
  },
  {
   "cell_type": "code",
   "execution_count": 5,
   "id": "da9473ac",
   "metadata": {},
   "outputs": [],
   "source": [
    "\n",
    "folder_path = '/Users/markuswiikjensen/Desktop/Master-Data/Operating data/2021'  # replace with the path to your folder\n",
    "dfs = []  # initialize an empty list to store the DataFrames\n",
    "\n",
    "for filename in os.listdir(folder_path):\n",
    "    file_path = os.path.join(folder_path, filename)\n",
    "    df = pd.read_csv(file_path, delimiter='\\t', encoding='ISO-8859-1' )  # read the CSV file as a DataFrame\n",
    "    dfs.append(df)  # append the DataFrame to the list\n",
    "\n",
    "# print the list of DataFrames"
   ]
  },
  {
   "cell_type": "code",
   "execution_count": 6,
   "id": "3e1bd1e3",
   "metadata": {},
   "outputs": [
    {
     "name": "stderr",
     "output_type": "stream",
     "text": [
      "/var/folders/qt/z8wfyvqx1l55qqc_y_5n83fc0000gn/T/ipykernel_14567/516874763.py:39: FutureWarning: Dropping invalid columns in DataFrameGroupBy.mean is deprecated. In a future version, a TypeError will be raised. Before calling .mean, select only columns which should be valid for the function.\n",
      "  pivot_table = df_pr.pivot_table('value', 'datetime','Alias')\n"
     ]
    }
   ],
   "source": [
    "pr2=combine_clean_data(dfs, 'F')"
   ]
  },
  {
   "cell_type": "code",
   "execution_count": 7,
   "id": "b2b9f72a",
   "metadata": {},
   "outputs": [],
   "source": [
    "folder_path = '/Users/markuswiikjensen/Desktop/Master-Data/Operating data/2022'  # replace with the path to your folder\n",
    "dfs = []  # initialize an empty list to store the DataFrames\n",
    "\n",
    "for filename in os.listdir(folder_path):\n",
    "    file_path = os.path.join(folder_path, filename)\n",
    "    df = pd.read_csv(file_path, delimiter='\\t', encoding='ISO-8859-1' )  # read the CSV file as a DataFrame\n",
    "    dfs.append(df)  # append the DataFrame to the list\n",
    "\n",
    "# print the list of DataFrames"
   ]
  },
  {
   "cell_type": "code",
   "execution_count": 8,
   "id": "870e3a2b",
   "metadata": {},
   "outputs": [
    {
     "name": "stderr",
     "output_type": "stream",
     "text": [
      "/var/folders/qt/z8wfyvqx1l55qqc_y_5n83fc0000gn/T/ipykernel_14567/516874763.py:39: FutureWarning: Dropping invalid columns in DataFrameGroupBy.mean is deprecated. In a future version, a TypeError will be raised. Before calling .mean, select only columns which should be valid for the function.\n",
      "  pivot_table = df_pr.pivot_table('value', 'datetime','Alias')\n"
     ]
    }
   ],
   "source": [
    "pr3=combine_clean_data(dfs, 'F')"
   ]
  },
  {
   "cell_type": "code",
   "execution_count": 9,
   "id": "0f204481",
   "metadata": {},
   "outputs": [],
   "source": [
    "folder_path = '/Users/markuswiikjensen/Desktop/Master-Data/Operating data/2023'  # replace with the path to your folder\n",
    "dfs = []  # initialize an empty list to store the DataFrames\n",
    "\n",
    "for filename in os.listdir(folder_path):\n",
    "    file_path = os.path.join(folder_path, filename)\n",
    "    df = pd.read_csv(file_path, delimiter='\\t', encoding='ISO-8859-1' )  # read the CSV file as a DataFrame\n",
    "    dfs.append(df)  # append the DataFrame to the list\n",
    "\n",
    "# print the list of DataFrames"
   ]
  },
  {
   "cell_type": "code",
   "execution_count": 10,
   "id": "f51e0efe",
   "metadata": {},
   "outputs": [
    {
     "name": "stderr",
     "output_type": "stream",
     "text": [
      "/var/folders/qt/z8wfyvqx1l55qqc_y_5n83fc0000gn/T/ipykernel_14567/516874763.py:39: FutureWarning: Dropping invalid columns in DataFrameGroupBy.mean is deprecated. In a future version, a TypeError will be raised. Before calling .mean, select only columns which should be valid for the function.\n",
      "  pivot_table = df_pr.pivot_table('value', 'datetime','Alias')\n",
      "/var/folders/qt/z8wfyvqx1l55qqc_y_5n83fc0000gn/T/ipykernel_14567/516874763.py:39: FutureWarning: Dropping invalid columns in DataFrameGroupBy.mean is deprecated. In a future version, a TypeError will be raised. Before calling .mean, select only columns which should be valid for the function.\n",
      "  pivot_table = df_pr.pivot_table('value', 'datetime','Alias')\n"
     ]
    }
   ],
   "source": [
    "pr4=combine_clean_data(dfs, 'F')"
   ]
  },
  {
   "cell_type": "code",
   "execution_count": 11,
   "id": "7ab57cfe",
   "metadata": {},
   "outputs": [],
   "source": [
    "consumption_df=pd.concat([pr1,pr2,pr3,pr4], axis=0)\n",
    "consumption_df.sort_index(ascending=True, inplace=True)"
   ]
  },
  {
   "cell_type": "code",
   "execution_count": 12,
   "id": "2e2dc07d",
   "metadata": {},
   "outputs": [],
   "source": [
    "consumption_df.to_csv('electricity_consumption.csv')"
   ]
  },
  {
   "cell_type": "code",
   "execution_count": null,
   "id": "8e62e4fd",
   "metadata": {},
   "outputs": [],
   "source": []
  }
 ],
 "metadata": {
  "kernelspec": {
   "display_name": "Python 3 (ipykernel)",
   "language": "python",
   "name": "python3"
  },
  "language_info": {
   "codemirror_mode": {
    "name": "ipython",
    "version": 3
   },
   "file_extension": ".py",
   "mimetype": "text/x-python",
   "name": "python",
   "nbconvert_exporter": "python",
   "pygments_lexer": "ipython3",
   "version": "3.9.15"
  }
 },
 "nbformat": 4,
 "nbformat_minor": 5
}
