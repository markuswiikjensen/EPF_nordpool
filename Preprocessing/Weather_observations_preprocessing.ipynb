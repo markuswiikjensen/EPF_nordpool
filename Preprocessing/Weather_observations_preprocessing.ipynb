{
 "cells": [
  {
   "cell_type": "code",
   "execution_count": 1,
   "id": "9b92c71b",
   "metadata": {},
   "outputs": [],
   "source": [
    "import pandas as pd\n",
    "import numpy as np\n",
    "\n",
    "f1= \"/Users/markuswiikjensen/Desktop/Master-Data/Weather observations/Before processing/NO1_weather_observations.csv\"\n",
    "f2= \"/Users/markuswiikjensen/Desktop/Master-Data/Weather observations/Before processing/NO2_weather_observations.csv\"\n",
    "f3= \"/Users/markuswiikjensen/Desktop/Master-Data/Weather observations/Before processing/NO3_weather_observations.csv\"\n",
    "f4= \"/Users/markuswiikjensen/Desktop/Master-Data/Weather observations/Before processing/NO4_weather_observations.csv\"\n",
    "f5= \"/Users/markuswiikjensen/Desktop/Master-Data/Weather observations/Before processing/NO5_weather_observations.csv\"\n",
    "f6= \"/Users/markuswiikjensen/Desktop/Master-Data/Weather observations/Before processing/NO6_weather_observations.csv\"\n",
    "\n",
    "NO1 = pd.read_csv(f1)\n",
    "NO2 = pd.read_csv(f2)\n",
    "NO3 = pd.read_csv(f3)\n",
    "NO4 = pd.read_csv(f4)\n",
    "NO5 = pd.read_csv(f5)\n",
    "NO6 = pd.read_csv(f6)"
   ]
  },
  {
   "cell_type": "code",
   "execution_count": 2,
   "id": "4b333102",
   "metadata": {},
   "outputs": [],
   "source": [
    "import ast\n",
    "from tqdm import tqdm\n",
    "\n",
    "\n",
    "def process_dataframe(df):\n",
    "    # Convert string representations of dictionaries to actual dictionaries\n",
    "    for index, row in tqdm(df.iterrows()):\n",
    "        if type(row['data']) == str:\n",
    "            df.at[index, 'data'] = ast.literal_eval(row['data'])\n",
    "\n",
    "    # Normalize nested dictionaries into separate columns\n",
    "    result_dfs = []\n",
    "    for row in tqdm(range(len(df))):\n",
    "        data = df.loc[row, 'data']\n",
    "        try:\n",
    "            # normalize the data field into a DataFrame\n",
    "            result_df = pd.json_normalize(data)\n",
    "            # add the resulting DataFrame to the list\n",
    "            result_dfs.append(result_df)\n",
    "        except:\n",
    "            # if an error occurs, skip this row\n",
    "            pass\n",
    "\n",
    "    # concatenate all the resulting DataFrames into a single DataFrame\n",
    "    final_df = pd.concat(result_dfs)\n",
    "\n",
    "    # Explode the 'observations' column and join with the expanded DataFrame\n",
    "    df2 = final_df.explode('observations').reset_index(drop=True)\n",
    "    df3 = pd.DataFrame.from_records(df2['observations'].values)\n",
    "    df2 = df2.join(df3)\n",
    "\n",
    "    # Group by 'referenceTime' and 'elementId' and calculate the mean of 'value'\n",
    "    final_df = df2.groupby(['referenceTime', 'elementId'])['value'].mean().reset_index()\n",
    "    final_df = pd.DataFrame(final_df)\n",
    "\n",
    "    # Pivot the DataFrame to have 'elementId' values as columns\n",
    "    final_df = final_df.pivot(index='referenceTime', columns='elementId', values='value').reset_index()\n",
    "\n",
    "    return final_df\n"
   ]
  },
  {
   "cell_type": "code",
   "execution_count": 3,
   "id": "ac0c690e",
   "metadata": {},
   "outputs": [
    {
     "name": "stderr",
     "output_type": "stream",
     "text": [
      "331it [01:07,  4.93it/s]\n",
      "100%|████████████████████████████████████████| 331/331 [00:00<00:00, 581.77it/s]\n"
     ]
    }
   ],
   "source": [
    "NO1= process_dataframe(NO1)\n",
    "NO1 = NO1.rename(columns={'mean(air_temperature P1D)': 'NO1_temp', 'mean(wind_speed P1D)': 'NO1_windspeed', 'sum(precipitation_amount P1D)': 'NO1_precipitation'})\n",
    "\n",
    "\n"
   ]
  },
  {
   "cell_type": "code",
   "execution_count": 4,
   "id": "50d608da",
   "metadata": {},
   "outputs": [
    {
     "name": "stderr",
     "output_type": "stream",
     "text": [
      "128it [00:22,  5.65it/s]\n",
      "100%|████████████████████████████████████████| 128/128 [00:00<00:00, 641.48it/s]\n"
     ]
    }
   ],
   "source": [
    "NO2=process_dataframe(NO2)\n",
    "NO2 = NO2.rename(columns={'mean(air_temperature P1D)': 'NO2_temp', 'mean(wind_speed P1D)': 'NO2_windspeed', 'sum(precipitation_amount P1D)': 'NO2_precipitation'})\n",
    "\n",
    "\n"
   ]
  },
  {
   "cell_type": "code",
   "execution_count": 5,
   "id": "c44d8a5a",
   "metadata": {},
   "outputs": [
    {
     "name": "stderr",
     "output_type": "stream",
     "text": [
      "110it [00:20,  5.28it/s]\n",
      "100%|████████████████████████████████████████| 110/110 [00:00<00:00, 604.87it/s]\n"
     ]
    }
   ],
   "source": [
    "NO3=process_dataframe(NO3)\n",
    "NO3 = NO3.rename(columns={'mean(air_temperature P1D)': 'NO3_temp', 'mean(wind_speed P1D)': 'NO3_windspeed', 'sum(precipitation_amount P1D)': 'NO3_precipitation'})\n",
    "\n",
    "\n"
   ]
  },
  {
   "cell_type": "code",
   "execution_count": 6,
   "id": "6e398fdc",
   "metadata": {},
   "outputs": [
    {
     "name": "stderr",
     "output_type": "stream",
     "text": [
      "251it [00:55,  4.51it/s]\n",
      "100%|████████████████████████████████████████| 251/251 [00:00<00:00, 654.55it/s]\n"
     ]
    }
   ],
   "source": [
    "NO4=process_dataframe(NO4)\n",
    "NO4 = NO4.rename(columns={'mean(air_temperature P1D)': 'NO4_temp', 'mean(wind_speed P1D)': 'NO4_windspeed', 'sum(precipitation_amount P1D)': 'NO4_precipitation'})\n",
    "\n",
    "\n"
   ]
  },
  {
   "cell_type": "code",
   "execution_count": 7,
   "id": "0de19011",
   "metadata": {},
   "outputs": [
    {
     "name": "stderr",
     "output_type": "stream",
     "text": [
      "195it [00:34,  5.65it/s]\n",
      "100%|████████████████████████████████████████| 195/195 [00:00<00:00, 600.33it/s]\n"
     ]
    }
   ],
   "source": [
    "NO5=process_dataframe(NO5)\n",
    "NO5 = NO5.rename(columns={'mean(air_temperature P1D)': 'NO5_temp', 'mean(wind_speed P1D)': 'NO5_windspeed', 'sum(precipitation_amount P1D)': 'NO5_precipitation'})\n",
    "\n",
    "\n"
   ]
  },
  {
   "cell_type": "code",
   "execution_count": 8,
   "id": "f15f6d9b",
   "metadata": {},
   "outputs": [
    {
     "name": "stderr",
     "output_type": "stream",
     "text": [
      "77it [00:13,  5.65it/s]\n",
      "100%|██████████████████████████████████████████| 77/77 [00:00<00:00, 580.71it/s]\n"
     ]
    }
   ],
   "source": [
    "NO6=process_dataframe(NO6)\n",
    "NO6 = NO6.rename(columns={'mean(air_temperature P1D)': 'NO6_temp', 'mean(wind_speed P1D)': 'NO6_windspeed', 'sum(precipitation_amount P1D)': 'NO6_precipitation'})\n"
   ]
  },
  {
   "cell_type": "code",
   "execution_count": null,
   "id": "b8d1db00",
   "metadata": {},
   "outputs": [],
   "source": []
  },
  {
   "cell_type": "code",
   "execution_count": 9,
   "id": "b258a22f",
   "metadata": {},
   "outputs": [
    {
     "ename": "AttributeError",
     "evalue": "'RangeIndex' object has no attribute 'set_index'",
     "output_type": "error",
     "traceback": [
      "\u001b[0;31m---------------------------------------------------------------------------\u001b[0m",
      "\u001b[0;31mAttributeError\u001b[0m                            Traceback (most recent call last)",
      "Cell \u001b[0;32mIn [9], line 8\u001b[0m\n\u001b[1;32m      5\u001b[0m df_concat \u001b[38;5;241m=\u001b[39m df_concat\u001b[38;5;241m.\u001b[39mindex\u001b[38;5;241m.\u001b[39mdrop_duplicates(keep\u001b[38;5;241m=\u001b[39m\u001b[38;5;124m'\u001b[39m\u001b[38;5;124mfirst\u001b[39m\u001b[38;5;124m'\u001b[39m)\n\u001b[1;32m      7\u001b[0m \u001b[38;5;66;03m# If the referenceTime is not the index of df_concat, you can set it as index\u001b[39;00m\n\u001b[0;32m----> 8\u001b[0m df_concat \u001b[38;5;241m=\u001b[39m \u001b[43mdf_concat\u001b[49m\u001b[38;5;241;43m.\u001b[39;49m\u001b[43mset_index\u001b[49m(\u001b[38;5;124m'\u001b[39m\u001b[38;5;124mreferenceTime\u001b[39m\u001b[38;5;124m'\u001b[39m)\n",
      "\u001b[0;31mAttributeError\u001b[0m: 'RangeIndex' object has no attribute 'set_index'"
     ]
    }
   ],
   "source": [
    "dfs = [NO1, NO2, NO3, NO4, NO5, NO6]\n",
    "\n",
    "# Concatenate the data frames along the columns axis\n",
    "df_concat = pd.concat(dfs, axis=1)\n",
    "df_concat = df_concat.index.drop_duplicates(keep='first')\n",
    "\n",
    "# If the referenceTime is not the index of df_concat, you can set it as index\n",
    "df_concat = df_concat.set_index('referenceTime')"
   ]
  },
  {
   "cell_type": "code",
   "execution_count": null,
   "id": "1ced3d5e",
   "metadata": {},
   "outputs": [],
   "source": [
    "df_concat"
   ]
  },
  {
   "cell_type": "code",
   "execution_count": null,
   "id": "86a32868",
   "metadata": {},
   "outputs": [],
   "source": []
  },
  {
   "cell_type": "raw",
   "id": "685c1c4c",
   "metadata": {},
   "source": [
    "NO1.to_csv('weather_averaged_preprocessed_NO1', index=False)"
   ]
  },
  {
   "cell_type": "raw",
   "id": "048a6b5f",
   "metadata": {},
   "source": [
    "NO2.to_csv('weather_averaged_preprocessed_NO2', index=False)"
   ]
  },
  {
   "cell_type": "raw",
   "id": "4931a6b5",
   "metadata": {},
   "source": [
    "NO3.to_csv('weather_averaged_preprocessed_NO3', index=False)"
   ]
  },
  {
   "cell_type": "raw",
   "id": "47f7b621",
   "metadata": {},
   "source": [
    "NO4.to_csv('weather_averaged_preprocessed_NO4', index=False)"
   ]
  },
  {
   "cell_type": "raw",
   "id": "0de19212",
   "metadata": {},
   "source": [
    "NO5.to_csv('weather_averaged_preprocessed_NO5', index=False)"
   ]
  },
  {
   "cell_type": "raw",
   "id": "555b3caa",
   "metadata": {},
   "source": [
    "NO6.to_csv('weather_averaged_preprocessed_NO6', index=False)"
   ]
  },
  {
   "cell_type": "code",
   "execution_count": null,
   "id": "a66cb668",
   "metadata": {},
   "outputs": [],
   "source": []
  }
 ],
 "metadata": {
  "kernelspec": {
   "display_name": "Python 3 (ipykernel)",
   "language": "python",
   "name": "python3"
  },
  "language_info": {
   "codemirror_mode": {
    "name": "ipython",
    "version": 3
   },
   "file_extension": ".py",
   "mimetype": "text/x-python",
   "name": "python",
   "nbconvert_exporter": "python",
   "pygments_lexer": "ipython3",
   "version": "3.9.15"
  }
 },
 "nbformat": 4,
 "nbformat_minor": 5
}
