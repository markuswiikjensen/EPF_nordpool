{
 "cells": [
  {
   "cell_type": "code",
   "execution_count": 1,
   "id": "97d7cb44",
   "metadata": {},
   "outputs": [],
   "source": [
    "import pandas as pd\n",
    "f1='/Users/markuswiikjensen/Desktop/Master-Data/Weather observations/Cleaned and averaged by bidding zone/weather_averaged_preprocessed_NO1'\n",
    "f2='/Users/markuswiikjensen/Desktop/Master-Data/Weather observations/Cleaned and averaged by bidding zone/weather_averaged_preprocessed_NO2'\n",
    "f3='/Users/markuswiikjensen/Desktop/Master-Data/Weather observations/Cleaned and averaged by bidding zone/weather_averaged_preprocessed_NO3'\n",
    "f4='/Users/markuswiikjensen/Desktop/Master-Data/Weather observations/Cleaned and averaged by bidding zone/weather_averaged_preprocessed_NO4'\n",
    "f5='/Users/markuswiikjensen/Desktop/Master-Data/Weather observations/Cleaned and averaged by bidding zone/weather_averaged_preprocessed_NO5'\n",
    "f6='/Users/markuswiikjensen/Desktop/Master-Data/Weather observations/Cleaned and averaged by bidding zone/weather_averaged_preprocessed_NO6'\n",
    "\n",
    "NO1=pd.read_csv(f1)\n",
    "NO2=pd.read_csv(f2)\n",
    "NO3=pd.read_csv(f3)\n",
    "NO4=pd.read_csv(f4)\n",
    "NO5=pd.read_csv(f5)\n",
    "NO6=pd.read_csv(f6)\n",
    "\n"
   ]
  },
  {
   "cell_type": "code",
   "execution_count": 2,
   "id": "2f89c625",
   "metadata": {},
   "outputs": [],
   "source": [
    "from tabulate import tabulate\n"
   ]
  },
  {
   "cell_type": "code",
   "execution_count": 16,
   "id": "144b8aa2",
   "metadata": {},
   "outputs": [
    {
     "data": {
      "text/plain": [
       "<AxesSubplot:xlabel='referenceTime'>"
      ]
     },
     "execution_count": 16,
     "metadata": {},
     "output_type": "execute_result"
    },
    {
     "data": {
      "image/png": "[encoded data removed]",
      "text/plain": [
       "<Figure size 1000x200 with 1 Axes>"
      ]
     },
     "metadata": {},
     "output_type": "display_data"
    }
   ],
   "source": [
    "sum_percipitation= NO1.iloc[:,-1]+NO2.iloc[:,-1]+NO3.iloc[:,-1]+NO4.iloc[:,-1]+NO5.iloc[:,-1]+NO6.iloc[:,-1]\n",
    "sum_percipitation.index=NO1['referenceTime']\n",
    "sum_percipitation.index=pd.to_datetime(sum_percipitation.index, format='%Y-%m-%dT%H:%M:%S.%fZ')\n",
    "sum_percipitation=sum_percipitation.groupby(sum_percipitation.index.month).mean()\n",
    "sum_percipitation.plot(figsize=(10,2))\n",
    "\n"
   ]
  },
  {
   "cell_type": "code",
   "execution_count": 4,
   "id": "c265d832",
   "metadata": {},
   "outputs": [
    {
     "name": "stdout",
     "output_type": "stream",
     "text": [
      "\\begin{tabular}{lrrr}\n",
      "\\toprule\n",
      "{} &  mean(air\\_temperature P1D) &  mean(wind\\_speed P1D) &  sum(precipitation\\_amount P1D) \\\\\n",
      "\\midrule\n",
      "count &                    1185.00 &               1185.00 &                        1185.00 \\\\\n",
      "mean  &                       5.77 &                  2.91 &                           2.40 \\\\\n",
      "std   &                       7.64 &                  1.09 &                           4.31 \\\\\n",
      "min   &                     -13.28 &                  1.04 &                           0.00 \\\\\n",
      "25\\%   &                       0.43 &                  2.11 &                           0.04 \\\\\n",
      "50\\%   &                       5.01 &                  2.66 &                           0.43 \\\\\n",
      "75\\%   &                      12.00 &                  3.48 &                           2.71 \\\\\n",
      "max   &                      21.61 &                  7.44 &                          33.74 \\\\\n",
      "\\bottomrule\n",
      "\\end{tabular}\n",
      "\n"
     ]
    },
    {
     "name": "stderr",
     "output_type": "stream",
     "text": [
      "/var/folders/qt/z8wfyvqx1l55qqc_y_5n83fc0000gn/T/ipykernel_11174/1301155985.py:2: FutureWarning: In future versions `DataFrame.to_latex` is expected to utilise the base implementation of `Styler.to_latex` for formatting and rendering. The arguments signature may therefore change. It is recommended instead to use `DataFrame.style.to_latex` which also contains additional functionality.\n",
      "  table_NO1 = stats_NO1.to_latex(float_format=\"%.2f\")\n"
     ]
    }
   ],
   "source": [
    "stats_NO1=NO1.describe()\n",
    "table_NO1 = stats_NO1.to_latex(float_format=\"%.2f\")\n",
    "print(table_NO1)"
   ]
  },
  {
   "cell_type": "code",
   "execution_count": 5,
   "id": "6153c18f",
   "metadata": {},
   "outputs": [
    {
     "name": "stdout",
     "output_type": "stream",
     "text": [
      "\\begin{tabular}{lrrr}\n",
      "\\toprule\n",
      "{} &  mean(air\\_temperature P1D) &  mean(wind\\_speed P1D) &  sum(precipitation\\_amount P1D) \\\\\n",
      "\\midrule\n",
      "count &                    1185.00 &               1185.00 &                        1185.00 \\\\\n",
      "mean  &                       7.24 &                  4.08 &                           4.53 \\\\\n",
      "std   &                       6.14 &                  1.49 &                           5.92 \\\\\n",
      "min   &                      -9.60 &                  1.61 &                           0.00 \\\\\n",
      "25\\%   &                       2.95 &                  2.98 &                           0.20 \\\\\n",
      "50\\%   &                       6.61 &                  3.85 &                           2.12 \\\\\n",
      "75\\%   &                      12.44 &                  4.90 &                           6.50 \\\\\n",
      "max   &                      21.78 &                 10.36 &                          36.86 \\\\\n",
      "\\bottomrule\n",
      "\\end{tabular}\n",
      "\n"
     ]
    },
    {
     "name": "stderr",
     "output_type": "stream",
     "text": [
      "/var/folders/qt/z8wfyvqx1l55qqc_y_5n83fc0000gn/T/ipykernel_11174/2342293333.py:2: FutureWarning: In future versions `DataFrame.to_latex` is expected to utilise the base implementation of `Styler.to_latex` for formatting and rendering. The arguments signature may therefore change. It is recommended instead to use `DataFrame.style.to_latex` which also contains additional functionality.\n",
      "  table_NO2 = stats_NO2.to_latex(float_format=\"%.2f\")\n"
     ]
    }
   ],
   "source": [
    "stats_NO2=NO2.describe()\n",
    "table_NO2 = stats_NO2.to_latex(float_format=\"%.2f\")\n",
    "print(table_NO2)"
   ]
  },
  {
   "cell_type": "code",
   "execution_count": 6,
   "id": "b79f96ff",
   "metadata": {},
   "outputs": [
    {
     "name": "stdout",
     "output_type": "stream",
     "text": [
      "\\begin{tabular}{lrrr}\n",
      "\\toprule\n",
      "{} &  mean(air\\_temperature P1D) &  mean(wind\\_speed P1D) &  sum(precipitation\\_amount P1D) \\\\\n",
      "\\midrule\n",
      "count &                    1185.00 &               1185.00 &                        1185.00 \\\\\n",
      "mean  &                       4.67 &                  3.87 &                           2.98 \\\\\n",
      "std   &                       7.02 &                  1.50 &                           3.90 \\\\\n",
      "min   &                     -16.37 &                  1.49 &                           0.00 \\\\\n",
      "25\\%   &                       0.16 &                  2.72 &                           0.27 \\\\\n",
      "50\\%   &                       3.87 &                  3.53 &                           1.55 \\\\\n",
      "75\\%   &                      10.09 &                  4.70 &                           4.27 \\\\\n",
      "max   &                      22.31 &                  9.64 &                          31.06 \\\\\n",
      "\\bottomrule\n",
      "\\end{tabular}\n",
      "\n"
     ]
    },
    {
     "name": "stderr",
     "output_type": "stream",
     "text": [
      "/var/folders/qt/z8wfyvqx1l55qqc_y_5n83fc0000gn/T/ipykernel_11174/4148464776.py:2: FutureWarning: In future versions `DataFrame.to_latex` is expected to utilise the base implementation of `Styler.to_latex` for formatting and rendering. The arguments signature may therefore change. It is recommended instead to use `DataFrame.style.to_latex` which also contains additional functionality.\n",
      "  table_NO3 = stats_NO3.to_latex(float_format=\"%.2f\")\n"
     ]
    }
   ],
   "source": [
    "stats_NO3=NO3.describe()\n",
    "table_NO3 = stats_NO3.to_latex(float_format=\"%.2f\")\n",
    "print(table_NO3)"
   ]
  },
  {
   "cell_type": "code",
   "execution_count": 7,
   "id": "1d2e594e",
   "metadata": {},
   "outputs": [
    {
     "name": "stdout",
     "output_type": "stream",
     "text": [
      "\\begin{tabular}{lrrr}\n",
      "\\toprule\n",
      "{} &  mean(air\\_temperature P1D) &  mean(wind\\_speed P1D) &  sum(precipitation\\_amount P1D) \\\\\n",
      "\\midrule\n",
      "count &                    1185.00 &               1185.00 &                        1185.00 \\\\\n",
      "mean  &                       2.34 &                  5.01 &                           3.11 \\\\\n",
      "std   &                       6.84 &                  1.70 &                           3.43 \\\\\n",
      "min   &                     -12.45 &                  2.10 &                           0.01 \\\\\n",
      "25\\%   &                      -2.81 &                  3.74 &                           0.56 \\\\\n",
      "50\\%   &                       1.42 &                  4.67 &                           1.98 \\\\\n",
      "75\\%   &                       7.92 &                  5.88 &                           4.55 \\\\\n",
      "max   &                      20.88 &                 12.29 &                          23.08 \\\\\n",
      "\\bottomrule\n",
      "\\end{tabular}\n",
      "\n"
     ]
    },
    {
     "name": "stderr",
     "output_type": "stream",
     "text": [
      "/var/folders/qt/z8wfyvqx1l55qqc_y_5n83fc0000gn/T/ipykernel_11174/1821050850.py:2: FutureWarning: In future versions `DataFrame.to_latex` is expected to utilise the base implementation of `Styler.to_latex` for formatting and rendering. The arguments signature may therefore change. It is recommended instead to use `DataFrame.style.to_latex` which also contains additional functionality.\n",
      "  table_NO4 = stats_NO4.to_latex(float_format=\"%.2f\")\n"
     ]
    }
   ],
   "source": [
    "stats_NO4=NO4.describe()\n",
    "table_NO4 = stats_NO4.to_latex(float_format=\"%.2f\")\n",
    "print(table_NO4)"
   ]
  },
  {
   "cell_type": "code",
   "execution_count": 8,
   "id": "b52706db",
   "metadata": {},
   "outputs": [
    {
     "name": "stdout",
     "output_type": "stream",
     "text": [
      "\\begin{tabular}{lrrr}\n",
      "\\toprule\n",
      "{} &  mean(air\\_temperature P1D) &  mean(wind\\_speed P1D) &  sum(precipitation\\_amount P1D) \\\\\n",
      "\\midrule\n",
      "count &                    1185.00 &               1185.00 &                        1185.00 \\\\\n",
      "mean  &                       5.32 &                  4.11 &                           5.53 \\\\\n",
      "std   &                       6.23 &                  1.64 &                           7.46 \\\\\n",
      "min   &                     -11.54 &                  1.38 &                           0.00 \\\\\n",
      "25\\%   &                       1.08 &                  2.83 &                           0.25 \\\\\n",
      "50\\%   &                       4.63 &                  3.78 &                           2.42 \\\\\n",
      "75\\%   &                      10.14 &                  5.14 &                           7.90 \\\\\n",
      "max   &                      20.09 &                 10.48 &                          53.51 \\\\\n",
      "\\bottomrule\n",
      "\\end{tabular}\n",
      "\n"
     ]
    },
    {
     "name": "stderr",
     "output_type": "stream",
     "text": [
      "/var/folders/qt/z8wfyvqx1l55qqc_y_5n83fc0000gn/T/ipykernel_11174/1235095096.py:2: FutureWarning: In future versions `DataFrame.to_latex` is expected to utilise the base implementation of `Styler.to_latex` for formatting and rendering. The arguments signature may therefore change. It is recommended instead to use `DataFrame.style.to_latex` which also contains additional functionality.\n",
      "  table_NO5 = stats_NO5.to_latex(float_format=\"%.2f\")\n"
     ]
    }
   ],
   "source": [
    "stats_NO5=NO5.describe()\n",
    "table_NO5 = stats_NO5.to_latex(float_format=\"%.2f\")\n",
    "print(table_NO5)"
   ]
  },
  {
   "cell_type": "code",
   "execution_count": 9,
   "id": "77472277",
   "metadata": {},
   "outputs": [
    {
     "name": "stdout",
     "output_type": "stream",
     "text": [
      "       mean(air_temperature P1D)  mean(wind_speed P1D)  \\\n",
      "count                1185.000000           1185.000000   \n",
      "mean                    6.051605              4.676508   \n",
      "std                     5.937996              1.991430   \n",
      "min                   -10.300000              1.605263   \n",
      "25%                     1.832911              3.135000   \n",
      "50%                     5.713953              4.220000   \n",
      "75%                    10.684091              5.825000   \n",
      "max                    20.667188             12.657895   \n",
      "\n",
      "       sum(precipitation_amount P1D)  \n",
      "count                    1185.000000  \n",
      "mean                        4.554923  \n",
      "std                         6.666273  \n",
      "min                         0.000000  \n",
      "25%                         0.183929  \n",
      "50%                         1.892187  \n",
      "75%                         6.435714  \n",
      "max                        63.767308  \n"
     ]
    },
    {
     "name": "stderr",
     "output_type": "stream",
     "text": [
      "/var/folders/qt/z8wfyvqx1l55qqc_y_5n83fc0000gn/T/ipykernel_11174/1861239051.py:2: FutureWarning: In future versions `DataFrame.to_latex` is expected to utilise the base implementation of `Styler.to_latex` for formatting and rendering. The arguments signature may therefore change. It is recommended instead to use `DataFrame.style.to_latex` which also contains additional functionality.\n",
      "  table_NO6 = stats_NO6.to_latex(float_format=\"%.2f\")\n"
     ]
    }
   ],
   "source": [
    "stats_NO6=NO6.describe()\n",
    "table_NO6 = stats_NO6.to_latex(float_format=\"%.2f\")\n",
    "print(stats_NO6)"
   ]
  },
  {
   "cell_type": "code",
   "execution_count": null,
   "id": "375d5533",
   "metadata": {},
   "outputs": [],
   "source": []
  }
 ],
 "metadata": {
  "kernelspec": {
   "display_name": "Python 3 (ipykernel)",
   "language": "python",
   "name": "python3"
  },
  "language_info": {
   "codemirror_mode": {
    "name": "ipython",
    "version": 3
   },
   "file_extension": ".py",
   "mimetype": "text/x-python",
   "name": "python",
   "nbconvert_exporter": "python",
   "pygments_lexer": "ipython3",
   "version": "3.9.15"
  }
 },
 "nbformat": 4,
 "nbformat_minor": 5
}
